{
 "cells": [
  {
   "cell_type": "code",
   "execution_count": 11,
   "metadata": {},
   "outputs": [],
   "source": [
    "import numpy as np\n",
    "import sklearn as sk\n",
    "import pandas as pd\n",
    "import matplotlib.pyplot as plt\n",
    "from sklearn.preprocessing import scale \n",
    "from sklearn.metrics import classification_report\n",
    "import random"
   ]
  },
  {
   "cell_type": "code",
   "execution_count": 2,
   "metadata": {},
   "outputs": [
    {
     "data": {
      "text/html": [
       "<div>\n",
       "<style scoped>\n",
       "    .dataframe tbody tr th:only-of-type {\n",
       "        vertical-align: middle;\n",
       "    }\n",
       "\n",
       "    .dataframe tbody tr th {\n",
       "        vertical-align: top;\n",
       "    }\n",
       "\n",
       "    .dataframe thead th {\n",
       "        text-align: right;\n",
       "    }\n",
       "</style>\n",
       "<table border=\"1\" class=\"dataframe\">\n",
       "  <thead>\n",
       "    <tr style=\"text-align: right;\">\n",
       "      <th></th>\n",
       "      <th>Time</th>\n",
       "      <th>V1</th>\n",
       "      <th>V2</th>\n",
       "      <th>V3</th>\n",
       "      <th>V4</th>\n",
       "      <th>V5</th>\n",
       "      <th>V6</th>\n",
       "      <th>V7</th>\n",
       "      <th>V8</th>\n",
       "      <th>V9</th>\n",
       "      <th>...</th>\n",
       "      <th>V21</th>\n",
       "      <th>V22</th>\n",
       "      <th>V23</th>\n",
       "      <th>V24</th>\n",
       "      <th>V25</th>\n",
       "      <th>V26</th>\n",
       "      <th>V27</th>\n",
       "      <th>V28</th>\n",
       "      <th>Amount</th>\n",
       "      <th>Class</th>\n",
       "    </tr>\n",
       "  </thead>\n",
       "  <tbody>\n",
       "    <tr>\n",
       "      <td>0</td>\n",
       "      <td>83678.0</td>\n",
       "      <td>-0.912855</td>\n",
       "      <td>2.260158</td>\n",
       "      <td>-0.782765</td>\n",
       "      <td>1.184087</td>\n",
       "      <td>-0.587891</td>\n",
       "      <td>0.140598</td>\n",
       "      <td>-2.187267</td>\n",
       "      <td>-7.666545</td>\n",
       "      <td>-0.282820</td>\n",
       "      <td>...</td>\n",
       "      <td>3.439930</td>\n",
       "      <td>-0.773055</td>\n",
       "      <td>0.871249</td>\n",
       "      <td>0.633619</td>\n",
       "      <td>0.267623</td>\n",
       "      <td>-0.320357</td>\n",
       "      <td>0.348506</td>\n",
       "      <td>0.327753</td>\n",
       "      <td>0.89</td>\n",
       "      <td>0</td>\n",
       "    </tr>\n",
       "    <tr>\n",
       "      <td>1</td>\n",
       "      <td>172189.0</td>\n",
       "      <td>-1.421497</td>\n",
       "      <td>-0.904442</td>\n",
       "      <td>0.517444</td>\n",
       "      <td>-0.214573</td>\n",
       "      <td>0.332934</td>\n",
       "      <td>-0.335225</td>\n",
       "      <td>1.210516</td>\n",
       "      <td>-0.000920</td>\n",
       "      <td>0.021592</td>\n",
       "      <td>...</td>\n",
       "      <td>0.068763</td>\n",
       "      <td>-0.472301</td>\n",
       "      <td>0.477771</td>\n",
       "      <td>-0.757650</td>\n",
       "      <td>1.037298</td>\n",
       "      <td>0.416332</td>\n",
       "      <td>-0.045102</td>\n",
       "      <td>-0.035172</td>\n",
       "      <td>319.90</td>\n",
       "      <td>0</td>\n",
       "    </tr>\n",
       "    <tr>\n",
       "      <td>2</td>\n",
       "      <td>144266.0</td>\n",
       "      <td>1.848900</td>\n",
       "      <td>-0.589884</td>\n",
       "      <td>-1.166357</td>\n",
       "      <td>0.321976</td>\n",
       "      <td>-0.376312</td>\n",
       "      <td>-0.961120</td>\n",
       "      <td>0.142027</td>\n",
       "      <td>-0.273200</td>\n",
       "      <td>1.151755</td>\n",
       "      <td>...</td>\n",
       "      <td>-0.116431</td>\n",
       "      <td>-0.329448</td>\n",
       "      <td>0.109448</td>\n",
       "      <td>-0.101197</td>\n",
       "      <td>-0.096963</td>\n",
       "      <td>-0.091498</td>\n",
       "      <td>-0.047036</td>\n",
       "      <td>-0.039822</td>\n",
       "      <td>110.12</td>\n",
       "      <td>0</td>\n",
       "    </tr>\n",
       "    <tr>\n",
       "      <td>3</td>\n",
       "      <td>145193.0</td>\n",
       "      <td>1.852921</td>\n",
       "      <td>-0.284156</td>\n",
       "      <td>-0.416794</td>\n",
       "      <td>1.417951</td>\n",
       "      <td>-0.220435</td>\n",
       "      <td>0.232379</td>\n",
       "      <td>-0.316730</td>\n",
       "      <td>0.146740</td>\n",
       "      <td>0.928472</td>\n",
       "      <td>...</td>\n",
       "      <td>-0.471313</td>\n",
       "      <td>-1.142512</td>\n",
       "      <td>0.367383</td>\n",
       "      <td>-0.477458</td>\n",
       "      <td>-0.328485</td>\n",
       "      <td>-1.102301</td>\n",
       "      <td>0.048923</td>\n",
       "      <td>-0.039378</td>\n",
       "      <td>34.90</td>\n",
       "      <td>0</td>\n",
       "    </tr>\n",
       "    <tr>\n",
       "      <td>4</td>\n",
       "      <td>83094.0</td>\n",
       "      <td>1.116980</td>\n",
       "      <td>-0.580124</td>\n",
       "      <td>0.854910</td>\n",
       "      <td>-0.922402</td>\n",
       "      <td>-0.870772</td>\n",
       "      <td>0.447938</td>\n",
       "      <td>-0.924876</td>\n",
       "      <td>0.436790</td>\n",
       "      <td>1.706103</td>\n",
       "      <td>...</td>\n",
       "      <td>0.235704</td>\n",
       "      <td>0.955489</td>\n",
       "      <td>-0.074131</td>\n",
       "      <td>-0.258075</td>\n",
       "      <td>0.421365</td>\n",
       "      <td>-0.486822</td>\n",
       "      <td>0.119259</td>\n",
       "      <td>0.014301</td>\n",
       "      <td>1.00</td>\n",
       "      <td>0</td>\n",
       "    </tr>\n",
       "  </tbody>\n",
       "</table>\n",
       "<p>5 rows × 31 columns</p>\n",
       "</div>"
      ],
      "text/plain": [
       "       Time        V1        V2        V3        V4        V5        V6  \\\n",
       "0   83678.0 -0.912855  2.260158 -0.782765  1.184087 -0.587891  0.140598   \n",
       "1  172189.0 -1.421497 -0.904442  0.517444 -0.214573  0.332934 -0.335225   \n",
       "2  144266.0  1.848900 -0.589884 -1.166357  0.321976 -0.376312 -0.961120   \n",
       "3  145193.0  1.852921 -0.284156 -0.416794  1.417951 -0.220435  0.232379   \n",
       "4   83094.0  1.116980 -0.580124  0.854910 -0.922402 -0.870772  0.447938   \n",
       "\n",
       "         V7        V8        V9  ...       V21       V22       V23       V24  \\\n",
       "0 -2.187267 -7.666545 -0.282820  ...  3.439930 -0.773055  0.871249  0.633619   \n",
       "1  1.210516 -0.000920  0.021592  ...  0.068763 -0.472301  0.477771 -0.757650   \n",
       "2  0.142027 -0.273200  1.151755  ... -0.116431 -0.329448  0.109448 -0.101197   \n",
       "3 -0.316730  0.146740  0.928472  ... -0.471313 -1.142512  0.367383 -0.477458   \n",
       "4 -0.924876  0.436790  1.706103  ...  0.235704  0.955489 -0.074131 -0.258075   \n",
       "\n",
       "        V25       V26       V27       V28  Amount  Class  \n",
       "0  0.267623 -0.320357  0.348506  0.327753    0.89      0  \n",
       "1  1.037298  0.416332 -0.045102 -0.035172  319.90      0  \n",
       "2 -0.096963 -0.091498 -0.047036 -0.039822  110.12      0  \n",
       "3 -0.328485 -1.102301  0.048923 -0.039378   34.90      0  \n",
       "4  0.421365 -0.486822  0.119259  0.014301    1.00      0  \n",
       "\n",
       "[5 rows x 31 columns]"
      ]
     },
     "execution_count": 2,
     "metadata": {},
     "output_type": "execute_result"
    }
   ],
   "source": [
    "df = pd.read_csv('creditcard.csv', low_memory=False)\n",
    "df = df.sample(frac=1).reset_index(drop=True)\n",
    "df.head()"
   ]
  },
  {
   "cell_type": "code",
   "execution_count": 3,
   "metadata": {},
   "outputs": [
    {
     "name": "stdout",
     "output_type": "stream",
     "text": [
      "492\n",
      "284315\n"
     ]
    }
   ],
   "source": [
    "fraud = df.loc[df['Class'] == 1]\n",
    "non_frauds = df.loc[df['Class'] == 0]\n",
    "print(len(fraud))\n",
    "print(len(non_frauds))"
   ]
  },
  {
   "cell_type": "code",
   "execution_count": 4,
   "metadata": {},
   "outputs": [
    {
     "data": {
      "image/png": "[encoded data removed]",
      "text/plain": [
       "<Figure size 432x288 with 1 Axes>"
      ]
     },
     "metadata": {
      "needs_background": "light"
     },
     "output_type": "display_data"
    }
   ],
   "source": [
    "ax = fraud.plot.scatter(x='Amount', y='Class', color='Orange', label='Fraud')\n",
    "non_frauds.plot.scatter(x='Amount', y='Class', color='Blue', label='Normal', ax=ax)\n",
    "plt.show()"
   ]
  },
  {
   "cell_type": "code",
   "execution_count": 6,
   "metadata": {},
   "outputs": [
    {
     "data": {
      "image/png": "[encoded data removed]",
      "text/plain": [
       "<Figure size 432x288 with 1 Axes>"
      ]
     },
     "metadata": {
      "needs_background": "light"
     },
     "output_type": "display_data"
    }
   ],
   "source": [
    "objects = ('Fraud', 'Non-Fraud')\n",
    "y_pos = np.arange(len(objects))\n",
    "amounts = [len(fraud), len(non_frauds)]\n",
    "plt.bar(y_pos, amounts, align='center', alpha=0.5)\n",
    "plt.xticks(y_pos, objects)\n",
    "plt.ylabel('Amount')\n",
    "plt.title('Credit Card Fraud')\n",
    "\n",
    "plt.show()"
   ]
  },
  {
   "cell_type": "code",
   "execution_count": 7,
   "metadata": {},
   "outputs": [],
   "source": [
    "from sklearn import linear_model\n",
    "from sklearn.model_selection import train_test_split"
   ]
  },
  {
   "cell_type": "code",
   "execution_count": 8,
   "metadata": {},
   "outputs": [],
   "source": [
    "x = df.iloc[:, :-1] \n",
    "y = df['Class'] \n",
    "\n",
    "X_train, X_test, y_train, y_test = train_test_split(x, y, test_size=0.35)"
   ]
  },
  {
   "cell_type": "code",
   "execution_count": 9,
   "metadata": {},
   "outputs": [
    {
     "name": "stderr",
     "output_type": "stream",
     "text": [
      "/Library/Frameworks/Python.framework/Versions/3.7/lib/python3.7/site-packages/sklearn/linear_model/logistic.py:432: FutureWarning: Default solver will be changed to 'lbfgs' in 0.22. Specify a solver to silence this warning.\n",
      "  FutureWarning)\n"
     ]
    },
    {
     "name": "stdout",
     "output_type": "stream",
     "text": [
      "Score: 0.9987259612973125\n"
     ]
    }
   ],
   "source": [
    "logistic = linear_model.LogisticRegression(C=1e5) \n",
    "logistic.fit(X_train,y_train)\n",
    "print('Score:', logistic.score(X_test, y_test))"
   ]
  },
  {
   "cell_type": "code",
   "execution_count": 10,
   "metadata": {},
   "outputs": [
    {
     "name": "stdout",
     "output_type": "stream",
     "text": [
      "[0 0 0 ... 0 0 0]\n"
     ]
    }
   ],
   "source": [
    "y_predicted = np.array(logistic.predict(X_test))\n",
    "print(y_predicted)"
   ]
  },
  {
   "cell_type": "code",
   "execution_count": 13,
   "metadata": {},
   "outputs": [
    {
     "name": "stdout",
     "output_type": "stream",
     "text": [
      "              precision    recall  f1-score   support\n",
      "\n",
      "           0       1.00      1.00      1.00     99507\n",
      "           1       0.68      0.53      0.60       176\n",
      "\n",
      "    accuracy                           1.00     99683\n",
      "   macro avg       0.84      0.77      0.80     99683\n",
      "weighted avg       1.00      1.00      1.00     99683\n",
      "\n"
     ]
    }
   ],
   "source": [
    "print(classification_report(y_test, y_predicted))"
   ]
  },
  {
   "cell_type": "code",
   "execution_count": null,
   "metadata": {},
   "outputs": [],
   "source": []
  }
 ],
 "metadata": {
  "kernelspec": {
   "display_name": "Python 3",
   "language": "python",
   "name": "python3"
  },
  "language_info": {
   "codemirror_mode": {
    "name": "ipython",
    "version": 3
   },
   "file_extension": ".py",
   "mimetype": "text/x-python",
   "name": "python",
   "nbconvert_exporter": "python",
   "pygments_lexer": "ipython3",
   "version": "3.7.3"
  }
 },
 "nbformat": 4,
 "nbformat_minor": 2
}
